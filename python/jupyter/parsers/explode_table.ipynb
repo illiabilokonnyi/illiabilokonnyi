{
 "cells": [
  {
   "cell_type": "code",
   "execution_count": null,
   "metadata": {},
   "outputs": [],
   "source": [
    "from itertools import chain\n",
    "from tqdm import tqdm\n",
    "import pandas as pd\n",
    "import json\n",
    "import numpy as np"
   ]
  },
  {
   "cell_type": "code",
   "execution_count": null,
   "metadata": {},
   "outputs": [],
   "source": [
    "df = pd.read_csv('./tmp/out/sampleCsv.csv', dtype='object')\n"
   ]
  },
  {
   "cell_type": "code",
   "execution_count": null,
   "metadata": {},
   "outputs": [],
   "source": [
    "df.head()"
   ]
  },
  {
   "cell_type": "code",
   "execution_count": null,
   "metadata": {},
   "outputs": [],
   "source": [
    "variant_cols = [col for col in df.columns if col.endswith('__VARIANT')]"
   ]
  },
  {
   "cell_type": "code",
   "execution_count": null,
   "metadata": {},
   "outputs": [],
   "source": [
    "final_dfs = []\n",
    "for i, col in enumerate(variant_cols):\n",
    "    print(f'{i+1}/{len(variant_cols)}')\n",
    "    # defining col name\n",
    "    col_simple = col.removesuffix('__VARIANT')\n",
    "    \n",
    "    # null values in col\n",
    "    df_col_null = df.loc[df[col].isna()]\n",
    "    df_col_null = df_col_null.drop(columns=[col]).to_dict(orient='records')\n",
    "    \n",
    "    # values in col\n",
    "    df_col_variant = df.loc[df[col].notna()]\n",
    "    \n",
    "    if len(df_col_variant) > 0:\n",
    "    \n",
    "        # exploding each record\n",
    "        col_dfs = []\n",
    "        for index, record in tqdm(df_col_variant.iterrows(), total=len(df_col_variant)):\n",
    "            # columns without target (base cols)\n",
    "            record = record.to_dict()\n",
    "            base_records = {i: record[i] for i in record if i != col}\n",
    "\n",
    "            # loading json\n",
    "            json_str = record[col].replace('\\'', '\"')\n",
    "            try:\n",
    "                json_struct = json.loads(json_str)\n",
    "            except:\n",
    "                print(json_str)\n",
    "\n",
    "            # renaming target cols\n",
    "            json_struct = [{f'{col_simple}_{k}' if 'SEC_TYOE' not in str(k).upper() else str(k): v for k, v in d.items()}\n",
    "                        for d in json_struct]\n",
    "\n",
    "            # adding base cols\n",
    "            for d in json_struct:\n",
    "                d.update(base_records)\n",
    "\n",
    "            # adding exploded records\n",
    "            final_dfs.extend(json_struct)\n",
    "    final_dfs.extend(df_col_null)    \n"
   ]
  },
  {
   "cell_type": "code",
   "execution_count": null,
   "metadata": {},
   "outputs": [],
   "source": [
    "merged = pd.DataFrame(final_dfs, dtype='object')\n",
    "\n",
    "    "
   ]
  },
  {
   "cell_type": "code",
   "execution_count": null,
   "metadata": {},
   "outputs": [],
   "source": [
    "merged.head()"
   ]
  },
  {
   "cell_type": "code",
   "execution_count": null,
   "metadata": {},
   "outputs": [],
   "source": [
    "merged = merged.drop(columns=variant_cols)\n"
   ]
  },
  {
   "cell_type": "code",
   "execution_count": null,
   "metadata": {},
   "outputs": [],
   "source": [
    "merged.head()"
   ]
  },
  {
   "cell_type": "code",
   "execution_count": null,
   "metadata": {},
   "outputs": [],
   "source": [
    "len(merged)"
   ]
  },
  {
   "cell_type": "code",
   "execution_count": null,
   "metadata": {},
   "outputs": [],
   "source": [
    "len(df)"
   ]
  },
  {
   "cell_type": "code",
   "execution_count": null,
   "metadata": {},
   "outputs": [],
   "source": [
    "len(df.columns)"
   ]
  },
  {
   "cell_type": "code",
   "execution_count": null,
   "metadata": {},
   "outputs": [],
   "source": [
    "len(merged.columns)"
   ]
  },
  {
   "cell_type": "code",
   "execution_count": null,
   "metadata": {},
   "outputs": [],
   "source": [
    "merged.to_csv('./tmp/out/SampleCsv_FLAT.csv', index=False)\n"
   ]
  }
 ],
 "metadata": {
  "kernelspec": {
   "display_name": "Python 3.10.4 64-bit",
   "language": "python",
   "name": "python3"
  },
  "language_info": {
   "codemirror_mode": {
    "name": "ipython",
    "version": 3
   },
   "file_extension": ".py",
   "mimetype": "text/x-python",
   "name": "python",
   "nbconvert_exporter": "python",
   "pygments_lexer": "ipython3",
   "version": "3.10.4"
  },
  "orig_nbformat": 4,
  "vscode": {
   "interpreter": {
    "hash": "a4f83d97c9e474242c19fd31f6b23fe84924806c776e417be556aefa4e52b6ba"
   }
  }
 },
 "nbformat": 4,
 "nbformat_minor": 2
}
