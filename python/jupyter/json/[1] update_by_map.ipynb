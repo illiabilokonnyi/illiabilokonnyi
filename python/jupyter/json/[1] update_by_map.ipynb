{
 "cells": [
  {
   "cell_type": "code",
   "execution_count": 5,
   "metadata": {},
   "outputs": [],
   "source": [
    "replace_attr_values = [\n",
    "    {\n",
    "        \"reference\": {\n",
    "            \"key\": \"name\",\n",
    "            \"value\": \"SOURCE_DATE\"\n",
    "        },\n",
    "        \"values\": [\n",
    "            {\n",
    "                \"key\": \"type\",\n",
    "                \"value\": \"DATE\"\n",
    "            },\n",
    "            {\n",
    "                \"key\": \"physicalModelType\",\n",
    "                \"value\": \"DATE\"\n",
    "            }\n",
    "        ]\n",
    "    }\n",
    "]\n"
   ]
  },
  {
   "cell_type": "code",
   "execution_count": 6,
   "metadata": {},
   "outputs": [],
   "source": [
    "from pathlib import Path\n",
    "import json"
   ]
  },
  {
   "cell_type": "code",
   "execution_count": 7,
   "metadata": {},
   "outputs": [],
   "source": [
    "def read_json(file):\n",
    "    with open(file, 'r', encoding='utf-8') as f:\n",
    "        return json.load(f)"
   ]
  },
  {
   "cell_type": "code",
   "execution_count": 8,
   "metadata": {},
   "outputs": [],
   "source": [
    "def save_json(data, file):\n",
    "    with open(file, 'w+', encoding='utf-8') as f:\n",
    "        json.dump(data, f, indent=2, ensure_ascii=False)"
   ]
  },
  {
   "cell_type": "code",
   "execution_count": 9,
   "metadata": {},
   "outputs": [],
   "source": [
    "for file in Path('./data').iterdir():\n",
    "    filename = file.name\n",
    "    if not filename.endswith('.json'):\n",
    "        continue\n",
    "    \n",
    "    data = read_json(file)\n",
    "    \n",
    "    for replace_set in replace_attr_values:        \n",
    "        for attr in data['attributes']:\n",
    "            if not attr[replace_set['reference']['key']] == replace_set['reference']['value']:\n",
    "                continue\n",
    "            for replace_value_set in replace_set['values']:\n",
    "                attr[replace_value_set['key']] = replace_value_set['value']\n",
    "                \n",
    "    save_json(data, f'./tmp/{filename}')\n",
    "    "
   ]
  }
 ],
 "metadata": {
  "kernelspec": {
   "display_name": "Python 3",
   "language": "python",
   "name": "python3"
  },
  "language_info": {
   "codemirror_mode": {
    "name": "ipython",
    "version": 3
   },
   "file_extension": ".py",
   "mimetype": "text/x-python",
   "name": "python",
   "nbconvert_exporter": "python",
   "pygments_lexer": "ipython3",
   "version": "3.11.2"
  },
  "orig_nbformat": 4
 },
 "nbformat": 4,
 "nbformat_minor": 2
}
