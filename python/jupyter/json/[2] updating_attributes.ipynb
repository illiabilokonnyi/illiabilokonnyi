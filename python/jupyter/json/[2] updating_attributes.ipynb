{
 "cells": [
  {
   "cell_type": "code",
   "execution_count": null,
   "metadata": {},
   "outputs": [],
   "source": [
    "from contextlib import suppress\n",
    "from itertools import product\n",
    "\n",
    "import json"
   ]
  },
  {
   "cell_type": "code",
   "execution_count": null,
   "metadata": {},
   "outputs": [],
   "source": [
    "def read_json(file):\n",
    "    with open(file, 'r', encoding='utf-8') as f:\n",
    "        return json.load(f)"
   ]
  },
  {
   "cell_type": "code",
   "execution_count": null,
   "metadata": {},
   "outputs": [],
   "source": [
    "def save_json(data, file):\n",
    "    with open(file, 'w+', encoding='utf-8') as f:\n",
    "        json.dump(data, f, indent=2, ensure_ascii=False)"
   ]
  },
  {
   "cell_type": "code",
   "execution_count": null,
   "metadata": {},
   "outputs": [],
   "source": [
    "from_models = read_json('./configs/from_models.json')"
   ]
  },
  {
   "cell_type": "code",
   "execution_count": null,
   "metadata": {},
   "outputs": [],
   "source": [
    "to_models = read_json('./configs/to_models.json')"
   ]
  },
  {
   "cell_type": "code",
   "execution_count": null,
   "metadata": {},
   "outputs": [],
   "source": [
    "for update_model, reference_model in product(to_models, from_models):\n",
    "    if not (uname := update_model['name']) == (refname:=reference_model['name']):\n",
    "        continue\n",
    "\n",
    "    modified = False\n",
    "    for update_attr, reference_attr in product(update_model['attributes'],\n",
    "                                               reference_model['attributes']):\n",
    "        if not update_attr['name'] == reference_attr['name']:\n",
    "            continue\n",
    "        \n",
    "        with suppress(KeyError):\n",
    "            update_attr['businessClass'] = reference_attr['businessClass']\n",
    "            modified = True\n",
    "            print(uname, update_attr['name'])\n",
    "            print(refname, reference_attr['name'])\n",
    "        \n",
    "    if modified:\n",
    "        save_json(update_model,\n",
    "                f\"./tmp/{update_model['name']}.json\")\n",
    "        "
   ]
  }
 ],
 "metadata": {
  "kernelspec": {
   "display_name": "Python 3",
   "language": "python",
   "name": "python3"
  },
  "language_info": {
   "codemirror_mode": {
    "name": "ipython",
    "version": 3
   },
   "file_extension": ".py",
   "mimetype": "text/x-python",
   "name": "python",
   "nbconvert_exporter": "python",
   "pygments_lexer": "ipython3",
   "version": "3.11.2"
  },
  "orig_nbformat": 4
 },
 "nbformat": 4,
 "nbformat_minor": 2
}
